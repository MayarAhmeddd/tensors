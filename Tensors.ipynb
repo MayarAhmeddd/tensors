{
 "cells": [
  {
   "cell_type": "markdown",
   "metadata": {},
   "source": [
    "Tensordot() method third argument:\n",
    "can be a scalar N, or a list or an int32 Tensor of shape [2, k]. If axes is a scalar, the last N dimensions of a and the first N dimensions of b in order, are summed over. If axes is a list or Tensor the first and second row contain the set of unique integers specifying axes along which the contraction is computed, for a and b, respectively. The number of axes for a and b must be equal. If axes=0, computes the outer product between a and b."
   ]
  },
  {
   "cell_type": "markdown",
   "metadata": {},
   "source": [
    "Tensor product is basically the outer product, as if we are multiplying a vector by the transpose of another vector, the result is vector, and by setting axis = 0 (column) eg:"
   ]
  },
  {
   "cell_type": "code",
   "execution_count": 19,
   "metadata": {},
   "outputs": [
    {
     "name": "stdout",
     "output_type": "stream",
     "text": [
      "[1 3]\n",
      "[2 1]\n"
     ]
    },
    {
     "data": {
      "text/plain": [
       "array([[2, 1],\n",
       "       [6, 3]])"
      ]
     },
     "execution_count": 19,
     "metadata": {},
     "output_type": "execute_result"
    }
   ],
   "source": [
    "A = np.array([1, 3])\n",
    "B = np.array([2, 1])\n",
    "print(A)\n",
    "print(B)\n",
    "np.tensordot(A, B, axes= 0)"
   ]
  },
  {
   "cell_type": "markdown",
   "metadata": {},
   "source": [
    "Tensor dot product is the inner product, as if we are multiplying the transpose of a vector by another vector, and the result is scalar, axis = 1 (rows), eg:"
   ]
  },
  {
   "cell_type": "code",
   "execution_count": 18,
   "metadata": {},
   "outputs": [
    {
     "name": "stdout",
     "output_type": "stream",
     "text": [
      "[1 3]\n",
      "[2 1]\n"
     ]
    },
    {
     "data": {
      "text/plain": [
       "array(5)"
      ]
     },
     "execution_count": 18,
     "metadata": {},
     "output_type": "execute_result"
    }
   ],
   "source": [
    "A = np.array([1, 3])\n",
    "B = np.array([2, 1])\n",
    "print(A)\n",
    "print(B)\n",
    "np.tensordot(A, B, axes =1)"
   ]
  }
 ],
 "metadata": {
  "kernelspec": {
   "display_name": "Python 3.10.8 64-bit (microsoft store)",
   "language": "python",
   "name": "python3"
  },
  "language_info": {
   "codemirror_mode": {
    "name": "ipython",
    "version": 3
   },
   "file_extension": ".py",
   "mimetype": "text/x-python",
   "name": "python",
   "nbconvert_exporter": "python",
   "pygments_lexer": "ipython3",
   "version": "3.10.8"
  },
  "orig_nbformat": 4,
  "vscode": {
   "interpreter": {
    "hash": "31a6bb9eb8a22f2f1c9cf3168e3cbfc7c8b4d4821cd3d5fbd7792176997ff5f3"
   }
  }
 },
 "nbformat": 4,
 "nbformat_minor": 2
}
